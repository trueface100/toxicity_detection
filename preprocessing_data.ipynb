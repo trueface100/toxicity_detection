{
 "cells": [
  {
   "cell_type": "code",
   "execution_count": 96,
   "id": "20f9b50d",
   "metadata": {},
   "outputs": [],
   "source": [
    "import pandas as pd\n",
    "import re\n",
    "from collections import defaultdict, Counter\n",
    "import numpy as np\n",
    "np.random.seed(1337)"
   ]
  },
  {
   "cell_type": "code",
   "execution_count": 97,
   "id": "fde9df7b",
   "metadata": {},
   "outputs": [],
   "source": [
    "input_file_path = 'data/train.csv'\n",
    "output_file_path = 'data/preprocessed_train_data.csv'\n",
    "train_data = pd.read_csv(input_file_path)\n",
    "\n",
    "input_file_path2 = 'data/test_for_inference.csv'\n",
    "output_file_path2 = 'data/test_for_inference_preprocessed.csv'\n",
    "test_data = pd.read_csv(input_file_path2)"
   ]
  },
  {
   "cell_type": "code",
   "execution_count": 98,
   "id": "44b94a5a",
   "metadata": {},
   "outputs": [],
   "source": [
    "train_proportion = 0.7\n",
    "val_proportion = 0.15\n",
    "test_proportion = 0.15 # 비율이 사용되지는 않음\n",
    "comments = pd.read_csv(input_file_path, \n",
    "                            header=0, names=['comment', 'toxicity'])\n",
    "\n",
    "by_toxicity = defaultdict(list)\n",
    "for _, row in comments.iterrows():\n",
    "    by_toxicity[row.toxicity].append(row.to_dict())\n",
    "    \n",
    "comment_subset = []\n",
    "\n",
    "for _, item_list in sorted(by_toxicity.items()):\n",
    "\n",
    "    np.random.shuffle(item_list)\n",
    "    n_total = len(item_list)\n",
    "    n_train = int(train_proportion * n_total)\n",
    "    n_val = int(val_proportion * n_total)\n",
    "    n_test = n_total - (n_train + n_val)  # 남은 데이터를 모두 테스트 세트로 사용\n",
    "    \n",
    "    for item in item_list[:n_train]:\n",
    "        item['split'] = 'train'\n",
    "    \n",
    "    for item in item_list[n_train:n_train+n_val]:\n",
    "        item['split'] = 'val'\n",
    "        \n",
    "    for item in item_list[n_train+n_val:]:\n",
    "        item['split'] = 'test'        \n",
    "    comment_subset.extend(item_list)\n",
    "    \n",
    "final_comments = pd.DataFrame(comment_subset)"
   ]
  },
  {
   "cell_type": "code",
   "execution_count": 99,
   "id": "b890de0e",
   "metadata": {},
   "outputs": [
    {
     "name": "stdout",
     "output_type": "stream",
     "text": [
      "data/preprocessed_train_data.csv\n",
      "data/test_for_inference_preprocessed.csv\n"
     ]
    }
   ],
   "source": [
    "def preprocess_text(text):\n",
    "    text = text.replace('\\n', ' ').replace('\\r', ' ') # 운영체제에 따른 줄바꿈문자 처리\n",
    "    text = re.sub(r'[^a-zA-Z.,!?\\s]', '', text)\n",
    "    text = text.lower()\n",
    "    text = re.sub(' +', ' ', text)\n",
    "    return text\n",
    "\n",
    "final_comments['comment'] = final_comments['comment'].apply(preprocess_text)\n",
    "final_comments['toxicity'] = final_comments['toxicity'].astype(str)\n",
    "\n",
    "final_comments.to_csv(output_file_path, index=False, columns=['comment', 'toxicity', 'split'])\n",
    "\n",
    "test_data['comment'] = test_data['comment'].apply(preprocess_text)\n",
    "test_data.to_csv(output_file_path2, index=False, columns=['comment'])\n",
    "print(output_file_path)\n",
    "print(output_file_path2)"
   ]
  },
  {
   "cell_type": "code",
   "execution_count": 100,
   "id": "605dc548",
   "metadata": {},
   "outputs": [
    {
     "name": "stdout",
     "output_type": "stream",
     "text": [
      "                                             comment  toxicity  split\n",
      "0  indent reset please do. while these look good ...         0  train\n",
      "1  i would like to known about pointer in java la...         0  train\n",
      "2  copyright problems hello, . concerning your co...         0  train\n",
      "3  elbing disambig any objections to redirecting ...         0  train\n",
      "4  help why am i blocked help help help one more ...         0  train\n",
      "5   indeed, but odd nature did not write you appe...         0  train\n",
      "6   to be clear, the reference to each person wen...         0  train\n",
      "7  i have added a new section, appearances in fic...         0  train\n",
      "8   fiba it must have been i over saved your revi...         0  train\n",
      "9            i just removed the whole dumb section.          0  train\n"
     ]
    }
   ],
   "source": [
    "preprocessed_train_data = pd.read_csv('data/preprocessed_train_data.csv')\n",
    "print(preprocessed_train_data.head(10))"
   ]
  },
  {
   "cell_type": "code",
   "execution_count": 101,
   "id": "17b3c504",
   "metadata": {},
   "outputs": [
    {
     "name": "stdout",
     "output_type": "stream",
     "text": [
      "                                             comment\n",
      "0  vandalism, or just bad writing? so, i noticed ...\n",
      "1  congratulations on getting mrio de andrade to ...\n",
      "2                              link canvassing talk \n",
      "3   wpoverlinking policy on wikipediagenerally, a...\n",
      "4  nomination i am officially nominating tenpound...\n",
      "5  overall although brief, the article is well wr...\n",
      "6   after consulting the very wpmosdab, there sho...\n",
      "7   the hardestworking, most experienced, most in...\n",
      "8  , january utc declineyou have not addressed an...\n",
      "9                        redirect talkmar azul album\n"
     ]
    }
   ],
   "source": [
    "preprocessed_inference_data = pd.read_csv('data/test_for_inference_preprocessed.csv')\n",
    "print(preprocessed_inference_data.head(10))"
   ]
  },
  {
   "cell_type": "code",
   "execution_count": null,
   "id": "4269de52",
   "metadata": {},
   "outputs": [],
   "source": []
  }
 ],
 "metadata": {
  "kernelspec": {
   "display_name": "Python 3 (ipykernel)",
   "language": "python",
   "name": "python3"
  },
  "language_info": {
   "codemirror_mode": {
    "name": "ipython",
    "version": 3
   },
   "file_extension": ".py",
   "mimetype": "text/x-python",
   "name": "python",
   "nbconvert_exporter": "python",
   "pygments_lexer": "ipython3",
   "version": "3.11.5"
  }
 },
 "nbformat": 4,
 "nbformat_minor": 5
}
